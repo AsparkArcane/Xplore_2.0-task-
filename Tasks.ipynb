{
  "cells": [
    {
      "cell_type": "markdown",
      "metadata": {
        "id": "6LkPygla_OXh"
      },
      "source": [
        "# **Task 1**\n",
        "\n",
        "Your goal is to find the answer of the dot product of the matrices of sizes (2,3), (3,5), (5,2) and (3,3).\n",
        "\n",
        "## **Workflow:**\n",
        "1. Define the matrices of given sizes.\n",
        "2. Print the matrices.\n",
        "3. Use the np.dot function.\n",
        "4. Print the output at each step.\n",
        "5. Print the result.\n",
        "\n",
        "(Print the shape of matrix always with the matrix)\n"
      ]
    },
    {
      "cell_type": "code",
      "execution_count": 1,
      "metadata": {
        "id": "Z8iSVv-r_WkT"
      },
      "outputs": [],
      "source": [
        "# Import Numpy\n",
        "import numpy as np"
      ]
    },
    {
      "cell_type": "code",
      "execution_count": 20,
      "metadata": {
        "id": "r1pVl7LbA1_I"
      },
      "outputs": [],
      "source": [
        "# Define the 4 matrices as A,B,C,D\n",
        "A = np.array([[1,2,3], [4,5,6]])\n",
        "B = np.array([[1,2,3,4,5],[6,7,8,9,10],[11,12,13,14,15]])\n",
        "C = np.array([[1,2], [3,4],[5,6],[7,8],[9,10]])\n",
        "D = np.array([[1,2,3], [4,5,6], [7,8,9]])"
      ]
    },
    {
      "cell_type": "code",
      "execution_count": 24,
      "metadata": {
        "id": "uJHj_CbhA83b"
      },
      "outputs": [
        {
          "name": "stdout",
          "output_type": "stream",
          "text": [
            "Matrix A\n",
            " [[1 2 3]\n",
            " [4 5 6]]\n",
            "Matrix B\n",
            " [[ 1  2  3  4  5]\n",
            " [ 6  7  8  9 10]\n",
            " [11 12 13 14 15]]\n",
            "Matrix C\n",
            " [[ 1  2]\n",
            " [ 3  4]\n",
            " [ 5  6]\n",
            " [ 7  8]\n",
            " [ 9 10]]\n",
            "Matrix D\n",
            " [[1 2 3]\n",
            " [4 5 6]\n",
            " [7 8 9]]\n"
          ]
        }
      ],
      "source": [
        "# Print the 4 matrices\n",
        "print(\"Matrix A\\n\",A)\n",
        "print(\"Matrix B\\n\",B)\n",
        "print(\"Matrix C\\n\",C)\n",
        "print(\"Matrix D\\n\",D)"
      ]
    },
    {
      "cell_type": "code",
      "execution_count": 14,
      "metadata": {
        "id": "MDcD7tOWBMzG"
      },
      "outputs": [
        {
          "name": "stdout",
          "output_type": "stream",
          "text": [
            "\n",
            "Dot Product of A and B:\n",
            " [[ 46  52  58  64  70]\n",
            " [100 115 130 145 160]]\n",
            "\n",
            "Dot Product of B and C:\n",
            " [[ 95 110]\n",
            " [220 260]\n",
            " [345 410]]\n",
            "\n",
            "Dot Product of C and A:\n",
            " [[ 9 12 15]\n",
            " [19 26 33]\n",
            " [29 40 51]\n",
            " [39 54 69]\n",
            " [49 68 87]]\n",
            "\n",
            "Dot Product of D with D:\n",
            " [[ 30  36  42]\n",
            " [ 66  81  96]\n",
            " [102 126 150]]\n"
          ]
        }
      ],
      "source": [
        "# Find the Dot Product of matrices\n",
        "dot_product = np.dot(A, B)\n",
        "print(\"\\nDot Product of A and B:\\n\", dot_product)\n",
        "dot_product = np.dot(B, C)\n",
        "print(\"\\nDot Product of B and C:\\n\", dot_product)\n",
        "dot_product = np.dot(C, A)\n",
        "print(\"\\nDot Product of C and A:\\n\", dot_product)\n",
        "dot_product = np.dot(D, D)\n",
        "print(\"\\nDot Product of D with D:\\n\", dot_product)"
      ]
    },
    {
      "cell_type": "markdown",
      "metadata": {
        "id": "Rv1D09dyB0eP"
      },
      "source": [
        "# ValueError: shapes (2,2) and (3,3) not aligned: 2 (dim 1) != 3 (dim 0)\n",
        "\n",
        "Now the task is to define a function named is_compatible() that takes 2 matrices as input and only allows the dot product if the condition number of **columns** in the first matrix (A) matches the number of **rows** in the second matrix (B).\n",
        "\n",
        "Print the ouput if condition is satisfied\n",
        "Else print \"Dimension Error!!\"\n",
        "\n",
        "\n"
      ]
    },
    {
      "cell_type": "code",
      "execution_count": 29,
      "metadata": {
        "id": "RmS0xS8tCjNC"
      },
      "outputs": [],
      "source": [
        "def is_compatible(A, B):\n",
        "  numcol = len(A[0])\n",
        "  numrow = len(B)\n",
        "  if numcol != numrow:\n",
        "    return False\n",
        "  else:\n",
        "    return True"
      ]
    },
    {
      "cell_type": "code",
      "execution_count": 31,
      "metadata": {
        "id": "ds0XYSZ6E9nl"
      },
      "outputs": [
        {
          "name": "stdout",
          "output_type": "stream",
          "text": [
            "[[ 46  52  58  64  70]\n",
            " [100 115 130 145 160]]\n",
            "\n",
            "[[ 95 110]\n",
            " [220 260]\n",
            " [345 410]]\n",
            "\n",
            "Dimension Error\n",
            "\n"
          ]
        }
      ],
      "source": [
        "# Find Dot product only if the matrices are compatible\n",
        "def get_dot(A,B):\n",
        "    if(is_compatible(A,B)):\n",
        "        print(np.dot(A,B))\n",
        "    else:\n",
        "        print(\"Dimension Error\")\n",
        "    print()\n",
        "\n",
        "get_dot(A,B)\n",
        "get_dot(B,C)\n",
        "get_dot(D, A)"
      ]
    },
    {
      "cell_type": "markdown",
      "metadata": {
        "id": "SR_JeHeEdWOX"
      },
      "source": [
        "# **Task 2**\n",
        "\n",
        "Your goal is to define a function that simulates a number-guessing game called \"Up-Down.\" The function, named up_down, should take an integer rounds as input, representing the number of turns the player gets.\n",
        "\n",
        "Game Rules:\n",
        "\n",
        "1. The player inputs a number between 1 and 12 for each round.\n",
        "2. The computer randomly selects a number between 1 and 12.\n",
        "3. The scoring system is as follows:\n",
        "  \n",
        "  a. If computer's guess is less than 7 and the player gains points equivalent to their guess if their guess is also less than 7, otherwise, they lose points equivalent to their guess.\n",
        "  \n",
        "  b. If computer's guess is exactly 7, the player gains 14 points if thier guess is 7, otherwise, they lose points equivalent to their guess.\n",
        "  \n",
        "  c. If computer's guess is greater than 7 and the player gains points equivalent to their guess if their guess is also greater than 7, otherwise, they lose points equivalent to their guess.\n",
        "\n",
        "4. The game continues until:\n",
        "\n",
        "  a. The player reaches more than 30 points, they win.\n",
        "\n",
        "  b. The player reaches less than -30 points, they lose.\n",
        "\n",
        "  c. The maximum number of rounds is reached.\n",
        "  \n",
        "At the end of the game, the function should print the final score.\n",
        "\n",
        "Your task is to implement this function in Python using the given rules."
      ]
    },
    {
      "cell_type": "code",
      "execution_count": null,
      "metadata": {
        "id": "0fxnUDma7aPx"
      },
      "outputs": [
        {
          "name": "stdout",
          "output_type": "stream",
          "text": [
            "You guessed 11 and computer guessed 10\n",
            "You guessed 4 and computer guessed 10\n",
            "You guessed 8 and computer guessed 11\n",
            "You guessed 1 and computer guessed 7\n",
            "You guessed 9 and computer guessed 10\n",
            "You guessed 3 and computer guessed 2\n",
            "You guessed 6 and computer guessed 9\n",
            "You guessed 7 and computer guessed 9\n",
            "Final score: 13\n"
          ]
        }
      ],
      "source": [
        "def up_down(rounds):\n",
        "  user_score = 0\n",
        "  while int(rounds) > 0 :\n",
        "    \n",
        "    user_guess = int(input(\"Enter a number to guess: \"))\n",
        "    guess = int((np.random.rand()*12)+1)\n",
        "\n",
        "    print(f'You guessed {user_guess} and computer guessed {guess}')\n",
        "    if (guess < 7):\n",
        "      if user_guess < 7:\n",
        "        user_score = user_score + user_guess\n",
        "      else:\n",
        "        user_score = user_score - user_guess\n",
        "\n",
        "\n",
        "    if (guess == 7):\n",
        "      if user_guess == 7:\n",
        "        user_score = user_score + 14\n",
        "      else:\n",
        "        user_score = user_score - user_guess\n",
        "\n",
        "\n",
        "    if(guess > 7):\n",
        "      if user_guess > 7:\n",
        "        user_score = user_score + user_guess\n",
        "      else:\n",
        "        user_score = user_score - user_guess\n",
        "    \n",
        "    if user_score > 30:\n",
        "      print(f\"You win! Score: {user_score}\")\n",
        "    elif user_score < -30:\n",
        "      print(\"You lose....\")\n",
        "\n",
        "    rounds = rounds - 1\n",
        "  \n",
        "  print(f\"Final score: {user_score}\")\n",
        "  \n",
        "  \n",
        "up_down(int(input(\"Welcome to Guessing Game! Enter the number of rounds: \")))\n"
      ]
    }
  ],
  "metadata": {
    "colab": {
      "provenance": []
    },
    "kernelspec": {
      "display_name": "Python 3",
      "name": "python3"
    },
    "language_info": {
      "codemirror_mode": {
        "name": "ipython",
        "version": 3
      },
      "file_extension": ".py",
      "mimetype": "text/x-python",
      "name": "python",
      "nbconvert_exporter": "python",
      "pygments_lexer": "ipython3",
      "version": "3.13.2"
    }
  },
  "nbformat": 4,
  "nbformat_minor": 0
}
